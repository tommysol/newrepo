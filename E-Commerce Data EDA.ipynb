{
 "cells": [
  {
   "cell_type": "markdown",
   "metadata": {},
   "source": [
    "# E-Commerce Data EDA"
   ]
  },
  {
   "cell_type": "code",
   "execution_count": 14,
   "metadata": {},
   "outputs": [],
   "source": [
    "import pandas as pd\n",
    "import numpy as np\n",
    "import matplotlib.pyplot as plt\n",
    "import seaborn as sns\n",
    "\n",
    "import warnings\n",
    "# current version of seaborn generates a bunch of warnings that we'll ignore\n",
    "warnings.filterwarnings('ignore')\n",
    "sns.set_style('whitegrid')\n",
    "\n",
    "#import missingno as msno # missing data visualization module for Python\n",
    "#import pandas_profiling\n",
    "\n",
    "import gc\n",
    "import datetime\n",
    "\n",
    "%matplotlib inline"
   ]
  },
  {
   "cell_type": "code",
   "execution_count": 15,
   "metadata": {},
   "outputs": [],
   "source": [
    "color = sns.color_palette()"
   ]
  },
  {
   "cell_type": "code",
   "execution_count": 16,
   "metadata": {},
   "outputs": [],
   "source": [
    "pd.set_option('display.max_rows', 10000)\n",
    "pd.set_option('display.max_columns', 100)"
   ]
  },
  {
   "cell_type": "code",
   "execution_count": 18,
   "metadata": {},
   "outputs": [],
   "source": [
    "eco = pd.read_csv('/Users/zegangzhao/Desktop/Kaggle/Kaggle E-commerce Data/data.csv', encoding = 'ISO-8859-1')"
   ]
  },
  {
   "cell_type": "code",
   "execution_count": 20,
   "metadata": {},
   "outputs": [
    {
     "data": {
      "text/html": [
       "<div>\n",
       "<style scoped>\n",
       "    .dataframe tbody tr th:only-of-type {\n",
       "        vertical-align: middle;\n",
       "    }\n",
       "\n",
       "    .dataframe tbody tr th {\n",
       "        vertical-align: top;\n",
       "    }\n",
       "\n",
       "    .dataframe thead th {\n",
       "        text-align: right;\n",
       "    }\n",
       "</style>\n",
       "<table border=\"1\" class=\"dataframe\">\n",
       "  <thead>\n",
       "    <tr style=\"text-align: right;\">\n",
       "      <th></th>\n",
       "      <th>invoice_num</th>\n",
       "      <th>stock_code</th>\n",
       "      <th>description</th>\n",
       "      <th>quantity</th>\n",
       "      <th>invoice_date</th>\n",
       "      <th>unit_price</th>\n",
       "      <th>cust_id</th>\n",
       "      <th>country</th>\n",
       "    </tr>\n",
       "  </thead>\n",
       "  <tbody>\n",
       "    <tr>\n",
       "      <td>0</td>\n",
       "      <td>536365</td>\n",
       "      <td>85123A</td>\n",
       "      <td>WHITE HANGING HEART T-LIGHT HOLDER</td>\n",
       "      <td>6</td>\n",
       "      <td>12/1/2010 8:26</td>\n",
       "      <td>2.55</td>\n",
       "      <td>17850.0</td>\n",
       "      <td>United Kingdom</td>\n",
       "    </tr>\n",
       "    <tr>\n",
       "      <td>1</td>\n",
       "      <td>536365</td>\n",
       "      <td>71053</td>\n",
       "      <td>WHITE METAL LANTERN</td>\n",
       "      <td>6</td>\n",
       "      <td>12/1/2010 8:26</td>\n",
       "      <td>3.39</td>\n",
       "      <td>17850.0</td>\n",
       "      <td>United Kingdom</td>\n",
       "    </tr>\n",
       "    <tr>\n",
       "      <td>2</td>\n",
       "      <td>536365</td>\n",
       "      <td>84406B</td>\n",
       "      <td>CREAM CUPID HEARTS COAT HANGER</td>\n",
       "      <td>8</td>\n",
       "      <td>12/1/2010 8:26</td>\n",
       "      <td>2.75</td>\n",
       "      <td>17850.0</td>\n",
       "      <td>United Kingdom</td>\n",
       "    </tr>\n",
       "    <tr>\n",
       "      <td>3</td>\n",
       "      <td>536365</td>\n",
       "      <td>84029G</td>\n",
       "      <td>KNITTED UNION FLAG HOT WATER BOTTLE</td>\n",
       "      <td>6</td>\n",
       "      <td>12/1/2010 8:26</td>\n",
       "      <td>3.39</td>\n",
       "      <td>17850.0</td>\n",
       "      <td>United Kingdom</td>\n",
       "    </tr>\n",
       "    <tr>\n",
       "      <td>4</td>\n",
       "      <td>536365</td>\n",
       "      <td>84029E</td>\n",
       "      <td>RED WOOLLY HOTTIE WHITE HEART.</td>\n",
       "      <td>6</td>\n",
       "      <td>12/1/2010 8:26</td>\n",
       "      <td>3.39</td>\n",
       "      <td>17850.0</td>\n",
       "      <td>United Kingdom</td>\n",
       "    </tr>\n",
       "  </tbody>\n",
       "</table>\n",
       "</div>"
      ],
      "text/plain": [
       "  invoice_num stock_code                          description  quantity  \\\n",
       "0      536365     85123A   WHITE HANGING HEART T-LIGHT HOLDER         6   \n",
       "1      536365      71053                  WHITE METAL LANTERN         6   \n",
       "2      536365     84406B       CREAM CUPID HEARTS COAT HANGER         8   \n",
       "3      536365     84029G  KNITTED UNION FLAG HOT WATER BOTTLE         6   \n",
       "4      536365     84029E       RED WOOLLY HOTTIE WHITE HEART.         6   \n",
       "\n",
       "     invoice_date  unit_price  cust_id         country  \n",
       "0  12/1/2010 8:26        2.55  17850.0  United Kingdom  \n",
       "1  12/1/2010 8:26        3.39  17850.0  United Kingdom  \n",
       "2  12/1/2010 8:26        2.75  17850.0  United Kingdom  \n",
       "3  12/1/2010 8:26        3.39  17850.0  United Kingdom  \n",
       "4  12/1/2010 8:26        3.39  17850.0  United Kingdom  "
      ]
     },
     "execution_count": 20,
     "metadata": {},
     "output_type": "execute_result"
    }
   ],
   "source": [
    "eco.head()"
   ]
  },
  {
   "cell_type": "code",
   "execution_count": 19,
   "metadata": {},
   "outputs": [],
   "source": [
    "#Change column names\n",
    "eco.rename(index=str, columns={'InvoiceNo': 'invoice_num',\n",
    "                              'StockCode' : 'stock_code',\n",
    "                              'Description' : 'description',\n",
    "                              'Quantity' : 'quantity',\n",
    "                              'InvoiceDate' : 'invoice_date',\n",
    "                              'UnitPrice' : 'unit_price',\n",
    "                              'CustomerID' : 'cust_id',\n",
    "                              'Country' : 'country'},inplace=True)"
   ]
  },
  {
   "cell_type": "code",
   "execution_count": 21,
   "metadata": {},
   "outputs": [
    {
     "data": {
      "text/html": [
       "<div>\n",
       "<style scoped>\n",
       "    .dataframe tbody tr th:only-of-type {\n",
       "        vertical-align: middle;\n",
       "    }\n",
       "\n",
       "    .dataframe tbody tr th {\n",
       "        vertical-align: top;\n",
       "    }\n",
       "\n",
       "    .dataframe thead th {\n",
       "        text-align: right;\n",
       "    }\n",
       "</style>\n",
       "<table border=\"1\" class=\"dataframe\">\n",
       "  <thead>\n",
       "    <tr style=\"text-align: right;\">\n",
       "      <th></th>\n",
       "      <th>invoice_num</th>\n",
       "      <th>stock_code</th>\n",
       "      <th>description</th>\n",
       "      <th>quantity</th>\n",
       "      <th>invoice_date</th>\n",
       "      <th>unit_price</th>\n",
       "      <th>cust_id</th>\n",
       "      <th>country</th>\n",
       "    </tr>\n",
       "  </thead>\n",
       "  <tbody>\n",
       "    <tr>\n",
       "      <td>0</td>\n",
       "      <td>536365</td>\n",
       "      <td>85123A</td>\n",
       "      <td>WHITE HANGING HEART T-LIGHT HOLDER</td>\n",
       "      <td>6</td>\n",
       "      <td>12/1/2010 8:26</td>\n",
       "      <td>2.55</td>\n",
       "      <td>17850.0</td>\n",
       "      <td>United Kingdom</td>\n",
       "    </tr>\n",
       "    <tr>\n",
       "      <td>1</td>\n",
       "      <td>536365</td>\n",
       "      <td>71053</td>\n",
       "      <td>WHITE METAL LANTERN</td>\n",
       "      <td>6</td>\n",
       "      <td>12/1/2010 8:26</td>\n",
       "      <td>3.39</td>\n",
       "      <td>17850.0</td>\n",
       "      <td>United Kingdom</td>\n",
       "    </tr>\n",
       "    <tr>\n",
       "      <td>2</td>\n",
       "      <td>536365</td>\n",
       "      <td>84406B</td>\n",
       "      <td>CREAM CUPID HEARTS COAT HANGER</td>\n",
       "      <td>8</td>\n",
       "      <td>12/1/2010 8:26</td>\n",
       "      <td>2.75</td>\n",
       "      <td>17850.0</td>\n",
       "      <td>United Kingdom</td>\n",
       "    </tr>\n",
       "    <tr>\n",
       "      <td>3</td>\n",
       "      <td>536365</td>\n",
       "      <td>84029G</td>\n",
       "      <td>KNITTED UNION FLAG HOT WATER BOTTLE</td>\n",
       "      <td>6</td>\n",
       "      <td>12/1/2010 8:26</td>\n",
       "      <td>3.39</td>\n",
       "      <td>17850.0</td>\n",
       "      <td>United Kingdom</td>\n",
       "    </tr>\n",
       "    <tr>\n",
       "      <td>4</td>\n",
       "      <td>536365</td>\n",
       "      <td>84029E</td>\n",
       "      <td>RED WOOLLY HOTTIE WHITE HEART.</td>\n",
       "      <td>6</td>\n",
       "      <td>12/1/2010 8:26</td>\n",
       "      <td>3.39</td>\n",
       "      <td>17850.0</td>\n",
       "      <td>United Kingdom</td>\n",
       "    </tr>\n",
       "  </tbody>\n",
       "</table>\n",
       "</div>"
      ],
      "text/plain": [
       "  invoice_num stock_code                          description  quantity  \\\n",
       "0      536365     85123A   WHITE HANGING HEART T-LIGHT HOLDER         6   \n",
       "1      536365      71053                  WHITE METAL LANTERN         6   \n",
       "2      536365     84406B       CREAM CUPID HEARTS COAT HANGER         8   \n",
       "3      536365     84029G  KNITTED UNION FLAG HOT WATER BOTTLE         6   \n",
       "4      536365     84029E       RED WOOLLY HOTTIE WHITE HEART.         6   \n",
       "\n",
       "     invoice_date  unit_price  cust_id         country  \n",
       "0  12/1/2010 8:26        2.55  17850.0  United Kingdom  \n",
       "1  12/1/2010 8:26        3.39  17850.0  United Kingdom  \n",
       "2  12/1/2010 8:26        2.75  17850.0  United Kingdom  \n",
       "3  12/1/2010 8:26        3.39  17850.0  United Kingdom  \n",
       "4  12/1/2010 8:26        3.39  17850.0  United Kingdom  "
      ]
     },
     "execution_count": 21,
     "metadata": {},
     "output_type": "execute_result"
    }
   ],
   "source": [
    "eco.head()"
   ]
  },
  {
   "cell_type": "markdown",
   "metadata": {},
   "source": [
    "# 1. Data Cleaning"
   ]
  },
  {
   "cell_type": "code",
   "execution_count": 22,
   "metadata": {},
   "outputs": [
    {
     "name": "stdout",
     "output_type": "stream",
     "text": [
      "<class 'pandas.core.frame.DataFrame'>\n",
      "Index: 541909 entries, 0 to 541908\n",
      "Data columns (total 8 columns):\n",
      "invoice_num     541909 non-null object\n",
      "stock_code      541909 non-null object\n",
      "description     540455 non-null object\n",
      "quantity        541909 non-null int64\n",
      "invoice_date    541909 non-null object\n",
      "unit_price      541909 non-null float64\n",
      "cust_id         406829 non-null float64\n",
      "country         541909 non-null object\n",
      "dtypes: float64(2), int64(1), object(5)\n",
      "memory usage: 37.2+ MB\n"
     ]
    }
   ],
   "source": [
    "eco.info()"
   ]
  },
  {
   "cell_type": "code",
   "execution_count": 23,
   "metadata": {},
   "outputs": [
    {
     "data": {
      "text/plain": [
       "cust_id         135080\n",
       "description       1454\n",
       "country              0\n",
       "unit_price           0\n",
       "invoice_date         0\n",
       "quantity             0\n",
       "stock_code           0\n",
       "invoice_num          0\n",
       "dtype: int64"
      ]
     },
     "execution_count": 23,
     "metadata": {},
     "output_type": "execute_result"
    }
   ],
   "source": [
    "##Check missing values in each columns\n",
    "eco.isnull().sum().sort_values(ascending=False)"
   ]
  },
  {
   "cell_type": "code",
   "execution_count": 24,
   "metadata": {},
   "outputs": [
    {
     "data": {
      "text/html": [
       "<div>\n",
       "<style scoped>\n",
       "    .dataframe tbody tr th:only-of-type {\n",
       "        vertical-align: middle;\n",
       "    }\n",
       "\n",
       "    .dataframe tbody tr th {\n",
       "        vertical-align: top;\n",
       "    }\n",
       "\n",
       "    .dataframe thead th {\n",
       "        text-align: right;\n",
       "    }\n",
       "</style>\n",
       "<table border=\"1\" class=\"dataframe\">\n",
       "  <thead>\n",
       "    <tr style=\"text-align: right;\">\n",
       "      <th></th>\n",
       "      <th>invoice_num</th>\n",
       "      <th>stock_code</th>\n",
       "      <th>description</th>\n",
       "      <th>quantity</th>\n",
       "      <th>invoice_date</th>\n",
       "      <th>unit_price</th>\n",
       "      <th>cust_id</th>\n",
       "      <th>country</th>\n",
       "    </tr>\n",
       "  </thead>\n",
       "  <tbody>\n",
       "    <tr>\n",
       "      <td>622</td>\n",
       "      <td>536414</td>\n",
       "      <td>22139</td>\n",
       "      <td>NaN</td>\n",
       "      <td>56</td>\n",
       "      <td>12/1/2010 11:52</td>\n",
       "      <td>0.00</td>\n",
       "      <td>NaN</td>\n",
       "      <td>United Kingdom</td>\n",
       "    </tr>\n",
       "    <tr>\n",
       "      <td>1443</td>\n",
       "      <td>536544</td>\n",
       "      <td>21773</td>\n",
       "      <td>DECORATIVE ROSE BATHROOM BOTTLE</td>\n",
       "      <td>1</td>\n",
       "      <td>12/1/2010 14:32</td>\n",
       "      <td>2.51</td>\n",
       "      <td>NaN</td>\n",
       "      <td>United Kingdom</td>\n",
       "    </tr>\n",
       "    <tr>\n",
       "      <td>1444</td>\n",
       "      <td>536544</td>\n",
       "      <td>21774</td>\n",
       "      <td>DECORATIVE CATS BATHROOM BOTTLE</td>\n",
       "      <td>2</td>\n",
       "      <td>12/1/2010 14:32</td>\n",
       "      <td>2.51</td>\n",
       "      <td>NaN</td>\n",
       "      <td>United Kingdom</td>\n",
       "    </tr>\n",
       "    <tr>\n",
       "      <td>1445</td>\n",
       "      <td>536544</td>\n",
       "      <td>21786</td>\n",
       "      <td>POLKADOT RAIN HAT</td>\n",
       "      <td>4</td>\n",
       "      <td>12/1/2010 14:32</td>\n",
       "      <td>0.85</td>\n",
       "      <td>NaN</td>\n",
       "      <td>United Kingdom</td>\n",
       "    </tr>\n",
       "    <tr>\n",
       "      <td>1446</td>\n",
       "      <td>536544</td>\n",
       "      <td>21787</td>\n",
       "      <td>RAIN PONCHO RETROSPOT</td>\n",
       "      <td>2</td>\n",
       "      <td>12/1/2010 14:32</td>\n",
       "      <td>1.66</td>\n",
       "      <td>NaN</td>\n",
       "      <td>United Kingdom</td>\n",
       "    </tr>\n",
       "  </tbody>\n",
       "</table>\n",
       "</div>"
      ],
      "text/plain": [
       "     invoice_num stock_code                      description  quantity  \\\n",
       "622       536414      22139                              NaN        56   \n",
       "1443      536544      21773  DECORATIVE ROSE BATHROOM BOTTLE         1   \n",
       "1444      536544      21774  DECORATIVE CATS BATHROOM BOTTLE         2   \n",
       "1445      536544      21786               POLKADOT RAIN HAT          4   \n",
       "1446      536544      21787            RAIN PONCHO RETROSPOT         2   \n",
       "\n",
       "         invoice_date  unit_price  cust_id         country  \n",
       "622   12/1/2010 11:52        0.00      NaN  United Kingdom  \n",
       "1443  12/1/2010 14:32        2.51      NaN  United Kingdom  \n",
       "1444  12/1/2010 14:32        2.51      NaN  United Kingdom  \n",
       "1445  12/1/2010 14:32        0.85      NaN  United Kingdom  \n",
       "1446  12/1/2010 14:32        1.66      NaN  United Kingdom  "
      ]
     },
     "execution_count": 24,
     "metadata": {},
     "output_type": "execute_result"
    }
   ],
   "source": [
    "##rows with missing values\n",
    "eco[eco.isnull().any(axis=1)].head()"
   ]
  },
  {
   "cell_type": "code",
   "execution_count": 28,
   "metadata": {},
   "outputs": [],
   "source": [
    "##change the format of invoice_date column\n",
    "import datetime\n",
    "eco['invoice_date'] = pd.to_datetime(eco.invoice_date,format='%m/%d/%Y %H:%M')"
   ]
  },
  {
   "cell_type": "code",
   "execution_count": 30,
   "metadata": {},
   "outputs": [],
   "source": [
    "eco['description'] = eco.description.str.lower()"
   ]
  },
  {
   "cell_type": "code",
   "execution_count": 31,
   "metadata": {},
   "outputs": [
    {
     "data": {
      "text/html": [
       "<div>\n",
       "<style scoped>\n",
       "    .dataframe tbody tr th:only-of-type {\n",
       "        vertical-align: middle;\n",
       "    }\n",
       "\n",
       "    .dataframe tbody tr th {\n",
       "        vertical-align: top;\n",
       "    }\n",
       "\n",
       "    .dataframe thead th {\n",
       "        text-align: right;\n",
       "    }\n",
       "</style>\n",
       "<table border=\"1\" class=\"dataframe\">\n",
       "  <thead>\n",
       "    <tr style=\"text-align: right;\">\n",
       "      <th></th>\n",
       "      <th>invoice_num</th>\n",
       "      <th>stock_code</th>\n",
       "      <th>description</th>\n",
       "      <th>quantity</th>\n",
       "      <th>invoice_date</th>\n",
       "      <th>unit_price</th>\n",
       "      <th>cust_id</th>\n",
       "      <th>country</th>\n",
       "    </tr>\n",
       "  </thead>\n",
       "  <tbody>\n",
       "    <tr>\n",
       "      <td>0</td>\n",
       "      <td>536365</td>\n",
       "      <td>85123A</td>\n",
       "      <td>white hanging heart t-light holder</td>\n",
       "      <td>6</td>\n",
       "      <td>2010-12-01 08:26:00</td>\n",
       "      <td>2.55</td>\n",
       "      <td>17850.0</td>\n",
       "      <td>United Kingdom</td>\n",
       "    </tr>\n",
       "    <tr>\n",
       "      <td>1</td>\n",
       "      <td>536365</td>\n",
       "      <td>71053</td>\n",
       "      <td>white metal lantern</td>\n",
       "      <td>6</td>\n",
       "      <td>2010-12-01 08:26:00</td>\n",
       "      <td>3.39</td>\n",
       "      <td>17850.0</td>\n",
       "      <td>United Kingdom</td>\n",
       "    </tr>\n",
       "    <tr>\n",
       "      <td>2</td>\n",
       "      <td>536365</td>\n",
       "      <td>84406B</td>\n",
       "      <td>cream cupid hearts coat hanger</td>\n",
       "      <td>8</td>\n",
       "      <td>2010-12-01 08:26:00</td>\n",
       "      <td>2.75</td>\n",
       "      <td>17850.0</td>\n",
       "      <td>United Kingdom</td>\n",
       "    </tr>\n",
       "    <tr>\n",
       "      <td>3</td>\n",
       "      <td>536365</td>\n",
       "      <td>84029G</td>\n",
       "      <td>knitted union flag hot water bottle</td>\n",
       "      <td>6</td>\n",
       "      <td>2010-12-01 08:26:00</td>\n",
       "      <td>3.39</td>\n",
       "      <td>17850.0</td>\n",
       "      <td>United Kingdom</td>\n",
       "    </tr>\n",
       "    <tr>\n",
       "      <td>4</td>\n",
       "      <td>536365</td>\n",
       "      <td>84029E</td>\n",
       "      <td>red woolly hottie white heart.</td>\n",
       "      <td>6</td>\n",
       "      <td>2010-12-01 08:26:00</td>\n",
       "      <td>3.39</td>\n",
       "      <td>17850.0</td>\n",
       "      <td>United Kingdom</td>\n",
       "    </tr>\n",
       "  </tbody>\n",
       "</table>\n",
       "</div>"
      ],
      "text/plain": [
       "  invoice_num stock_code                          description  quantity  \\\n",
       "0      536365     85123A   white hanging heart t-light holder         6   \n",
       "1      536365      71053                  white metal lantern         6   \n",
       "2      536365     84406B       cream cupid hearts coat hanger         8   \n",
       "3      536365     84029G  knitted union flag hot water bottle         6   \n",
       "4      536365     84029E       red woolly hottie white heart.         6   \n",
       "\n",
       "         invoice_date  unit_price  cust_id         country  \n",
       "0 2010-12-01 08:26:00        2.55  17850.0  United Kingdom  \n",
       "1 2010-12-01 08:26:00        3.39  17850.0  United Kingdom  \n",
       "2 2010-12-01 08:26:00        2.75  17850.0  United Kingdom  \n",
       "3 2010-12-01 08:26:00        3.39  17850.0  United Kingdom  \n",
       "4 2010-12-01 08:26:00        3.39  17850.0  United Kingdom  "
      ]
     },
     "execution_count": 31,
     "metadata": {},
     "output_type": "execute_result"
    }
   ],
   "source": [
    "eco.head()"
   ]
  },
  {
   "cell_type": "code",
   "execution_count": 32,
   "metadata": {},
   "outputs": [],
   "source": [
    "##drop rows with missing values\n",
    "eco_new = eco.dropna()"
   ]
  },
  {
   "cell_type": "code",
   "execution_count": 34,
   "metadata": {},
   "outputs": [
    {
     "data": {
      "text/plain": [
       "country         0\n",
       "cust_id         0\n",
       "unit_price      0\n",
       "invoice_date    0\n",
       "quantity        0\n",
       "description     0\n",
       "stock_code      0\n",
       "invoice_num     0\n",
       "dtype: int64"
      ]
     },
     "execution_count": 34,
     "metadata": {},
     "output_type": "execute_result"
    }
   ],
   "source": [
    "##check missing values for each column\n",
    "eco_new.isnull().sum().sort_values(ascending=False)"
   ]
  },
  {
   "cell_type": "code",
   "execution_count": 35,
   "metadata": {},
   "outputs": [
    {
     "data": {
      "text/plain": [
       "<bound method DataFrame.info of        invoice_num stock_code                          description  quantity  \\\n",
       "0           536365     85123A   white hanging heart t-light holder         6   \n",
       "1           536365      71053                  white metal lantern         6   \n",
       "2           536365     84406B       cream cupid hearts coat hanger         8   \n",
       "3           536365     84029G  knitted union flag hot water bottle         6   \n",
       "4           536365     84029E       red woolly hottie white heart.         6   \n",
       "...            ...        ...                                  ...       ...   \n",
       "541904      581587      22613          pack of 20 spaceboy napkins        12   \n",
       "541905      581587      22899         children's apron dolly girl          6   \n",
       "541906      581587      23254        childrens cutlery dolly girl          4   \n",
       "541907      581587      23255      childrens cutlery circus parade         4   \n",
       "541908      581587      22138        baking set 9 piece retrospot          3   \n",
       "\n",
       "              invoice_date  unit_price  cust_id         country  \n",
       "0      2010-12-01 08:26:00        2.55  17850.0  United Kingdom  \n",
       "1      2010-12-01 08:26:00        3.39  17850.0  United Kingdom  \n",
       "2      2010-12-01 08:26:00        2.75  17850.0  United Kingdom  \n",
       "3      2010-12-01 08:26:00        3.39  17850.0  United Kingdom  \n",
       "4      2010-12-01 08:26:00        3.39  17850.0  United Kingdom  \n",
       "...                    ...         ...      ...             ...  \n",
       "541904 2011-12-09 12:50:00        0.85  12680.0          France  \n",
       "541905 2011-12-09 12:50:00        2.10  12680.0          France  \n",
       "541906 2011-12-09 12:50:00        4.15  12680.0          France  \n",
       "541907 2011-12-09 12:50:00        4.15  12680.0          France  \n",
       "541908 2011-12-09 12:50:00        4.95  12680.0          France  \n",
       "\n",
       "[406829 rows x 8 columns]>"
      ]
     },
     "execution_count": 35,
     "metadata": {},
     "output_type": "execute_result"
    }
   ],
   "source": [
    "eco_new.info"
   ]
  },
  {
   "cell_type": "code",
   "execution_count": 36,
   "metadata": {},
   "outputs": [
    {
     "data": {
      "text/html": [
       "<div>\n",
       "<style scoped>\n",
       "    .dataframe tbody tr th:only-of-type {\n",
       "        vertical-align: middle;\n",
       "    }\n",
       "\n",
       "    .dataframe tbody tr th {\n",
       "        vertical-align: top;\n",
       "    }\n",
       "\n",
       "    .dataframe thead th {\n",
       "        text-align: right;\n",
       "    }\n",
       "</style>\n",
       "<table border=\"1\" class=\"dataframe\">\n",
       "  <thead>\n",
       "    <tr style=\"text-align: right;\">\n",
       "      <th></th>\n",
       "      <th>invoice_num</th>\n",
       "      <th>stock_code</th>\n",
       "      <th>description</th>\n",
       "      <th>quantity</th>\n",
       "      <th>invoice_date</th>\n",
       "      <th>unit_price</th>\n",
       "      <th>cust_id</th>\n",
       "      <th>country</th>\n",
       "    </tr>\n",
       "  </thead>\n",
       "  <tbody>\n",
       "    <tr>\n",
       "      <td>0</td>\n",
       "      <td>536365</td>\n",
       "      <td>85123A</td>\n",
       "      <td>white hanging heart t-light holder</td>\n",
       "      <td>6</td>\n",
       "      <td>2010-12-01 08:26:00</td>\n",
       "      <td>2.55</td>\n",
       "      <td>17850</td>\n",
       "      <td>United Kingdom</td>\n",
       "    </tr>\n",
       "    <tr>\n",
       "      <td>1</td>\n",
       "      <td>536365</td>\n",
       "      <td>71053</td>\n",
       "      <td>white metal lantern</td>\n",
       "      <td>6</td>\n",
       "      <td>2010-12-01 08:26:00</td>\n",
       "      <td>3.39</td>\n",
       "      <td>17850</td>\n",
       "      <td>United Kingdom</td>\n",
       "    </tr>\n",
       "    <tr>\n",
       "      <td>2</td>\n",
       "      <td>536365</td>\n",
       "      <td>84406B</td>\n",
       "      <td>cream cupid hearts coat hanger</td>\n",
       "      <td>8</td>\n",
       "      <td>2010-12-01 08:26:00</td>\n",
       "      <td>2.75</td>\n",
       "      <td>17850</td>\n",
       "      <td>United Kingdom</td>\n",
       "    </tr>\n",
       "    <tr>\n",
       "      <td>3</td>\n",
       "      <td>536365</td>\n",
       "      <td>84029G</td>\n",
       "      <td>knitted union flag hot water bottle</td>\n",
       "      <td>6</td>\n",
       "      <td>2010-12-01 08:26:00</td>\n",
       "      <td>3.39</td>\n",
       "      <td>17850</td>\n",
       "      <td>United Kingdom</td>\n",
       "    </tr>\n",
       "    <tr>\n",
       "      <td>4</td>\n",
       "      <td>536365</td>\n",
       "      <td>84029E</td>\n",
       "      <td>red woolly hottie white heart.</td>\n",
       "      <td>6</td>\n",
       "      <td>2010-12-01 08:26:00</td>\n",
       "      <td>3.39</td>\n",
       "      <td>17850</td>\n",
       "      <td>United Kingdom</td>\n",
       "    </tr>\n",
       "  </tbody>\n",
       "</table>\n",
       "</div>"
      ],
      "text/plain": [
       "  invoice_num stock_code                          description  quantity  \\\n",
       "0      536365     85123A   white hanging heart t-light holder         6   \n",
       "1      536365      71053                  white metal lantern         6   \n",
       "2      536365     84406B       cream cupid hearts coat hanger         8   \n",
       "3      536365     84029G  knitted union flag hot water bottle         6   \n",
       "4      536365     84029E       red woolly hottie white heart.         6   \n",
       "\n",
       "         invoice_date  unit_price  cust_id         country  \n",
       "0 2010-12-01 08:26:00        2.55    17850  United Kingdom  \n",
       "1 2010-12-01 08:26:00        3.39    17850  United Kingdom  \n",
       "2 2010-12-01 08:26:00        2.75    17850  United Kingdom  \n",
       "3 2010-12-01 08:26:00        3.39    17850  United Kingdom  \n",
       "4 2010-12-01 08:26:00        3.39    17850  United Kingdom  "
      ]
     },
     "execution_count": 36,
     "metadata": {},
     "output_type": "execute_result"
    }
   ],
   "source": [
    "##change cust_id from str to int\n",
    "eco_new['cust_id'] = eco_new['cust_id'].astype('int')\n",
    "eco_new.head()"
   ]
  },
  {
   "cell_type": "code",
   "execution_count": 37,
   "metadata": {},
   "outputs": [
    {
     "name": "stdout",
     "output_type": "stream",
     "text": [
      "<class 'pandas.core.frame.DataFrame'>\n",
      "Index: 406829 entries, 0 to 541908\n",
      "Data columns (total 8 columns):\n",
      "invoice_num     406829 non-null object\n",
      "stock_code      406829 non-null object\n",
      "description     406829 non-null object\n",
      "quantity        406829 non-null int64\n",
      "invoice_date    406829 non-null datetime64[ns]\n",
      "unit_price      406829 non-null float64\n",
      "cust_id         406829 non-null int64\n",
      "country         406829 non-null object\n",
      "dtypes: datetime64[ns](1), float64(1), int64(2), object(4)\n",
      "memory usage: 27.9+ MB\n"
     ]
    }
   ],
   "source": [
    "eco_new.info()"
   ]
  },
  {
   "cell_type": "code",
   "execution_count": 38,
   "metadata": {},
   "outputs": [
    {
     "data": {
      "text/html": [
       "<div>\n",
       "<style scoped>\n",
       "    .dataframe tbody tr th:only-of-type {\n",
       "        vertical-align: middle;\n",
       "    }\n",
       "\n",
       "    .dataframe tbody tr th {\n",
       "        vertical-align: top;\n",
       "    }\n",
       "\n",
       "    .dataframe thead th {\n",
       "        text-align: right;\n",
       "    }\n",
       "</style>\n",
       "<table border=\"1\" class=\"dataframe\">\n",
       "  <thead>\n",
       "    <tr style=\"text-align: right;\">\n",
       "      <th></th>\n",
       "      <th>quantity</th>\n",
       "      <th>unit_price</th>\n",
       "      <th>cust_id</th>\n",
       "    </tr>\n",
       "  </thead>\n",
       "  <tbody>\n",
       "    <tr>\n",
       "      <td>count</td>\n",
       "      <td>406829.00</td>\n",
       "      <td>406829.00</td>\n",
       "      <td>406829.00</td>\n",
       "    </tr>\n",
       "    <tr>\n",
       "      <td>mean</td>\n",
       "      <td>12.06</td>\n",
       "      <td>3.46</td>\n",
       "      <td>15287.69</td>\n",
       "    </tr>\n",
       "    <tr>\n",
       "      <td>std</td>\n",
       "      <td>248.69</td>\n",
       "      <td>69.32</td>\n",
       "      <td>1713.60</td>\n",
       "    </tr>\n",
       "    <tr>\n",
       "      <td>min</td>\n",
       "      <td>-80995.00</td>\n",
       "      <td>0.00</td>\n",
       "      <td>12346.00</td>\n",
       "    </tr>\n",
       "    <tr>\n",
       "      <td>25%</td>\n",
       "      <td>2.00</td>\n",
       "      <td>1.25</td>\n",
       "      <td>13953.00</td>\n",
       "    </tr>\n",
       "    <tr>\n",
       "      <td>50%</td>\n",
       "      <td>5.00</td>\n",
       "      <td>1.95</td>\n",
       "      <td>15152.00</td>\n",
       "    </tr>\n",
       "    <tr>\n",
       "      <td>75%</td>\n",
       "      <td>12.00</td>\n",
       "      <td>3.75</td>\n",
       "      <td>16791.00</td>\n",
       "    </tr>\n",
       "    <tr>\n",
       "      <td>max</td>\n",
       "      <td>80995.00</td>\n",
       "      <td>38970.00</td>\n",
       "      <td>18287.00</td>\n",
       "    </tr>\n",
       "  </tbody>\n",
       "</table>\n",
       "</div>"
      ],
      "text/plain": [
       "        quantity  unit_price    cust_id\n",
       "count  406829.00   406829.00  406829.00\n",
       "mean       12.06        3.46   15287.69\n",
       "std       248.69       69.32    1713.60\n",
       "min    -80995.00        0.00   12346.00\n",
       "25%         2.00        1.25   13953.00\n",
       "50%         5.00        1.95   15152.00\n",
       "75%        12.00        3.75   16791.00\n",
       "max     80995.00    38970.00   18287.00"
      ]
     },
     "execution_count": 38,
     "metadata": {},
     "output_type": "execute_result"
    }
   ],
   "source": [
    "eco_new.describe().round(2)"
   ]
  },
  {
   "cell_type": "code",
   "execution_count": 39,
   "metadata": {},
   "outputs": [],
   "source": [
    "##Drop negative quantity values\n",
    "eco_new = eco_new[eco_new.quantity>0]"
   ]
  },
  {
   "cell_type": "code",
   "execution_count": 40,
   "metadata": {},
   "outputs": [
    {
     "data": {
      "text/html": [
       "<div>\n",
       "<style scoped>\n",
       "    .dataframe tbody tr th:only-of-type {\n",
       "        vertical-align: middle;\n",
       "    }\n",
       "\n",
       "    .dataframe tbody tr th {\n",
       "        vertical-align: top;\n",
       "    }\n",
       "\n",
       "    .dataframe thead th {\n",
       "        text-align: right;\n",
       "    }\n",
       "</style>\n",
       "<table border=\"1\" class=\"dataframe\">\n",
       "  <thead>\n",
       "    <tr style=\"text-align: right;\">\n",
       "      <th></th>\n",
       "      <th>quantity</th>\n",
       "      <th>unit_price</th>\n",
       "      <th>cust_id</th>\n",
       "    </tr>\n",
       "  </thead>\n",
       "  <tbody>\n",
       "    <tr>\n",
       "      <td>count</td>\n",
       "      <td>397924.00</td>\n",
       "      <td>397924.00</td>\n",
       "      <td>397924.00</td>\n",
       "    </tr>\n",
       "    <tr>\n",
       "      <td>mean</td>\n",
       "      <td>13.02</td>\n",
       "      <td>3.12</td>\n",
       "      <td>15294.32</td>\n",
       "    </tr>\n",
       "    <tr>\n",
       "      <td>std</td>\n",
       "      <td>180.42</td>\n",
       "      <td>22.10</td>\n",
       "      <td>1713.17</td>\n",
       "    </tr>\n",
       "    <tr>\n",
       "      <td>min</td>\n",
       "      <td>1.00</td>\n",
       "      <td>0.00</td>\n",
       "      <td>12346.00</td>\n",
       "    </tr>\n",
       "    <tr>\n",
       "      <td>25%</td>\n",
       "      <td>2.00</td>\n",
       "      <td>1.25</td>\n",
       "      <td>13969.00</td>\n",
       "    </tr>\n",
       "    <tr>\n",
       "      <td>50%</td>\n",
       "      <td>6.00</td>\n",
       "      <td>1.95</td>\n",
       "      <td>15159.00</td>\n",
       "    </tr>\n",
       "    <tr>\n",
       "      <td>75%</td>\n",
       "      <td>12.00</td>\n",
       "      <td>3.75</td>\n",
       "      <td>16795.00</td>\n",
       "    </tr>\n",
       "    <tr>\n",
       "      <td>max</td>\n",
       "      <td>80995.00</td>\n",
       "      <td>8142.75</td>\n",
       "      <td>18287.00</td>\n",
       "    </tr>\n",
       "  </tbody>\n",
       "</table>\n",
       "</div>"
      ],
      "text/plain": [
       "        quantity  unit_price    cust_id\n",
       "count  397924.00   397924.00  397924.00\n",
       "mean       13.02        3.12   15294.32\n",
       "std       180.42       22.10    1713.17\n",
       "min         1.00        0.00   12346.00\n",
       "25%         2.00        1.25   13969.00\n",
       "50%         6.00        1.95   15159.00\n",
       "75%        12.00        3.75   16795.00\n",
       "max     80995.00     8142.75   18287.00"
      ]
     },
     "execution_count": 40,
     "metadata": {},
     "output_type": "execute_result"
    }
   ],
   "source": [
    "eco_new.describe().round(2)"
   ]
  },
  {
   "cell_type": "code",
   "execution_count": 41,
   "metadata": {},
   "outputs": [],
   "source": [
    "#create a column with amount spent\n",
    "eco_new['amount_spent'] = eco_new['quantity']*eco_new['unit_price']"
   ]
  },
  {
   "cell_type": "code",
   "execution_count": 45,
   "metadata": {},
   "outputs": [],
   "source": [
    "#rearrange column orders to make them easier to read\n",
    "eco_new = eco_new[['invoice_num','invoice_date','stock_code','description','quantity','unit_price','amount_spent','cust_id','country']]"
   ]
  },
  {
   "cell_type": "code",
   "execution_count": 46,
   "metadata": {},
   "outputs": [],
   "source": [
    "#create columns for month, day, and hour of the invoice\n",
    "eco_new.insert(loc=2, column='year_month', value=eco_new['invoice_date'].map(lambda x: 100*x.year+x.month))\n",
    "eco_new.insert(loc=3, column='month', value=eco_new.invoice_date.dt.month)\n",
    "#+1 to make Monday=1...Sunday=7\n",
    "eco_new.insert(loc=4, column='day', value=(eco_new.invoice_date.dt.dayofweek)+1)\n",
    "eco_new.insert(loc=5, column='hour', value=eco_new.invoice_date.dt.hour)"
   ]
  },
  {
   "cell_type": "code",
   "execution_count": 47,
   "metadata": {},
   "outputs": [
    {
     "data": {
      "text/html": [
       "<div>\n",
       "<style scoped>\n",
       "    .dataframe tbody tr th:only-of-type {\n",
       "        vertical-align: middle;\n",
       "    }\n",
       "\n",
       "    .dataframe tbody tr th {\n",
       "        vertical-align: top;\n",
       "    }\n",
       "\n",
       "    .dataframe thead th {\n",
       "        text-align: right;\n",
       "    }\n",
       "</style>\n",
       "<table border=\"1\" class=\"dataframe\">\n",
       "  <thead>\n",
       "    <tr style=\"text-align: right;\">\n",
       "      <th></th>\n",
       "      <th>invoice_num</th>\n",
       "      <th>invoice_date</th>\n",
       "      <th>year_month</th>\n",
       "      <th>month</th>\n",
       "      <th>day</th>\n",
       "      <th>hour</th>\n",
       "      <th>stock_code</th>\n",
       "      <th>description</th>\n",
       "      <th>quantity</th>\n",
       "      <th>unit_price</th>\n",
       "      <th>amount_spent</th>\n",
       "      <th>cust_id</th>\n",
       "      <th>country</th>\n",
       "    </tr>\n",
       "  </thead>\n",
       "  <tbody>\n",
       "    <tr>\n",
       "      <td>0</td>\n",
       "      <td>536365</td>\n",
       "      <td>2010-12-01 08:26:00</td>\n",
       "      <td>201012</td>\n",
       "      <td>12</td>\n",
       "      <td>3</td>\n",
       "      <td>8</td>\n",
       "      <td>85123A</td>\n",
       "      <td>white hanging heart t-light holder</td>\n",
       "      <td>6</td>\n",
       "      <td>2.55</td>\n",
       "      <td>15.30</td>\n",
       "      <td>17850</td>\n",
       "      <td>United Kingdom</td>\n",
       "    </tr>\n",
       "    <tr>\n",
       "      <td>1</td>\n",
       "      <td>536365</td>\n",
       "      <td>2010-12-01 08:26:00</td>\n",
       "      <td>201012</td>\n",
       "      <td>12</td>\n",
       "      <td>3</td>\n",
       "      <td>8</td>\n",
       "      <td>71053</td>\n",
       "      <td>white metal lantern</td>\n",
       "      <td>6</td>\n",
       "      <td>3.39</td>\n",
       "      <td>20.34</td>\n",
       "      <td>17850</td>\n",
       "      <td>United Kingdom</td>\n",
       "    </tr>\n",
       "    <tr>\n",
       "      <td>2</td>\n",
       "      <td>536365</td>\n",
       "      <td>2010-12-01 08:26:00</td>\n",
       "      <td>201012</td>\n",
       "      <td>12</td>\n",
       "      <td>3</td>\n",
       "      <td>8</td>\n",
       "      <td>84406B</td>\n",
       "      <td>cream cupid hearts coat hanger</td>\n",
       "      <td>8</td>\n",
       "      <td>2.75</td>\n",
       "      <td>22.00</td>\n",
       "      <td>17850</td>\n",
       "      <td>United Kingdom</td>\n",
       "    </tr>\n",
       "    <tr>\n",
       "      <td>3</td>\n",
       "      <td>536365</td>\n",
       "      <td>2010-12-01 08:26:00</td>\n",
       "      <td>201012</td>\n",
       "      <td>12</td>\n",
       "      <td>3</td>\n",
       "      <td>8</td>\n",
       "      <td>84029G</td>\n",
       "      <td>knitted union flag hot water bottle</td>\n",
       "      <td>6</td>\n",
       "      <td>3.39</td>\n",
       "      <td>20.34</td>\n",
       "      <td>17850</td>\n",
       "      <td>United Kingdom</td>\n",
       "    </tr>\n",
       "    <tr>\n",
       "      <td>4</td>\n",
       "      <td>536365</td>\n",
       "      <td>2010-12-01 08:26:00</td>\n",
       "      <td>201012</td>\n",
       "      <td>12</td>\n",
       "      <td>3</td>\n",
       "      <td>8</td>\n",
       "      <td>84029E</td>\n",
       "      <td>red woolly hottie white heart.</td>\n",
       "      <td>6</td>\n",
       "      <td>3.39</td>\n",
       "      <td>20.34</td>\n",
       "      <td>17850</td>\n",
       "      <td>United Kingdom</td>\n",
       "    </tr>\n",
       "  </tbody>\n",
       "</table>\n",
       "</div>"
      ],
      "text/plain": [
       "  invoice_num        invoice_date  year_month  month  day  hour stock_code  \\\n",
       "0      536365 2010-12-01 08:26:00      201012     12    3     8     85123A   \n",
       "1      536365 2010-12-01 08:26:00      201012     12    3     8      71053   \n",
       "2      536365 2010-12-01 08:26:00      201012     12    3     8     84406B   \n",
       "3      536365 2010-12-01 08:26:00      201012     12    3     8     84029G   \n",
       "4      536365 2010-12-01 08:26:00      201012     12    3     8     84029E   \n",
       "\n",
       "                           description  quantity  unit_price  amount_spent  \\\n",
       "0   white hanging heart t-light holder         6        2.55         15.30   \n",
       "1                  white metal lantern         6        3.39         20.34   \n",
       "2       cream cupid hearts coat hanger         8        2.75         22.00   \n",
       "3  knitted union flag hot water bottle         6        3.39         20.34   \n",
       "4       red woolly hottie white heart.         6        3.39         20.34   \n",
       "\n",
       "   cust_id         country  \n",
       "0    17850  United Kingdom  \n",
       "1    17850  United Kingdom  \n",
       "2    17850  United Kingdom  \n",
       "3    17850  United Kingdom  \n",
       "4    17850  United Kingdom  "
      ]
     },
     "execution_count": 47,
     "metadata": {},
     "output_type": "execute_result"
    }
   ],
   "source": [
    "eco_new.head()"
   ]
  },
  {
   "cell_type": "markdown",
   "metadata": {},
   "source": [
    "# Exploratory Data Analysis "
   ]
  },
  {
   "cell_type": "code",
   "execution_count": 48,
   "metadata": {},
   "outputs": [
    {
     "data": {
      "text/html": [
       "<div>\n",
       "<style scoped>\n",
       "    .dataframe tbody tr th:only-of-type {\n",
       "        vertical-align: middle;\n",
       "    }\n",
       "\n",
       "    .dataframe tbody tr th {\n",
       "        vertical-align: top;\n",
       "    }\n",
       "\n",
       "    .dataframe thead th {\n",
       "        text-align: right;\n",
       "    }\n",
       "</style>\n",
       "<table border=\"1\" class=\"dataframe\">\n",
       "  <thead>\n",
       "    <tr style=\"text-align: right;\">\n",
       "      <th></th>\n",
       "      <th>cust_id</th>\n",
       "      <th>country</th>\n",
       "      <th>invoice_num</th>\n",
       "    </tr>\n",
       "  </thead>\n",
       "  <tbody>\n",
       "    <tr>\n",
       "      <td>0</td>\n",
       "      <td>12346</td>\n",
       "      <td>United Kingdom</td>\n",
       "      <td>1</td>\n",
       "    </tr>\n",
       "    <tr>\n",
       "      <td>1</td>\n",
       "      <td>12347</td>\n",
       "      <td>Iceland</td>\n",
       "      <td>182</td>\n",
       "    </tr>\n",
       "    <tr>\n",
       "      <td>2</td>\n",
       "      <td>12348</td>\n",
       "      <td>Finland</td>\n",
       "      <td>31</td>\n",
       "    </tr>\n",
       "    <tr>\n",
       "      <td>3</td>\n",
       "      <td>12349</td>\n",
       "      <td>Italy</td>\n",
       "      <td>73</td>\n",
       "    </tr>\n",
       "    <tr>\n",
       "      <td>4</td>\n",
       "      <td>12350</td>\n",
       "      <td>Norway</td>\n",
       "      <td>17</td>\n",
       "    </tr>\n",
       "  </tbody>\n",
       "</table>\n",
       "</div>"
      ],
      "text/plain": [
       "   cust_id         country  invoice_num\n",
       "0    12346  United Kingdom            1\n",
       "1    12347         Iceland          182\n",
       "2    12348         Finland           31\n",
       "3    12349           Italy           73\n",
       "4    12350          Norway           17"
      ]
     },
     "execution_count": 48,
     "metadata": {},
     "output_type": "execute_result"
    }
   ],
   "source": [
    "##number of orders made by the customers\n",
    "eco_new.groupby(by=['cust_id','country'],as_index=False)['invoice_num'].count().head()"
   ]
  },
  {
   "cell_type": "code",
   "execution_count": 49,
   "metadata": {},
   "outputs": [
    {
     "data": {
      "image/png": "[encoded data removed]",
      "text/plain": [
       "<Figure size 1080x432 with 1 Axes>"
      ]
     },
     "metadata": {
      "needs_background": "light"
     },
     "output_type": "display_data"
    }
   ],
   "source": [
    "##visualize\n",
    "orders = eco_new.groupby(by=['cust_id','country'],as_index=False)['invoice_num'].count()\n",
    "plt.subplots(figsize=(15,6))\n",
    "plt.plot(orders.cust_id,orders.invoice_num)\n",
    "plt.xlabel('Customers ID')\n",
    "plt.ylabel('Number of Orders')\n",
    "plt.title('Number of Orders for Different Customers')\n",
    "plt.show()"
   ]
  },
  {
   "cell_type": "code",
   "execution_count": 50,
   "metadata": {},
   "outputs": [
    {
     "data": {
      "text/html": [
       "<div>\n",
       "<style scoped>\n",
       "    .dataframe tbody tr th:only-of-type {\n",
       "        vertical-align: middle;\n",
       "    }\n",
       "\n",
       "    .dataframe tbody tr th {\n",
       "        vertical-align: top;\n",
       "    }\n",
       "\n",
       "    .dataframe thead th {\n",
       "        text-align: right;\n",
       "    }\n",
       "</style>\n",
       "<table border=\"1\" class=\"dataframe\">\n",
       "  <thead>\n",
       "    <tr style=\"text-align: right;\">\n",
       "      <th></th>\n",
       "      <th>cust_id</th>\n",
       "      <th>country</th>\n",
       "      <th>invoice_num</th>\n",
       "    </tr>\n",
       "  </thead>\n",
       "  <tbody>\n",
       "    <tr>\n",
       "      <td>4019</td>\n",
       "      <td>17841</td>\n",
       "      <td>United Kingdom</td>\n",
       "      <td>7847</td>\n",
       "    </tr>\n",
       "    <tr>\n",
       "      <td>1888</td>\n",
       "      <td>14911</td>\n",
       "      <td>EIRE</td>\n",
       "      <td>5677</td>\n",
       "    </tr>\n",
       "    <tr>\n",
       "      <td>1298</td>\n",
       "      <td>14096</td>\n",
       "      <td>United Kingdom</td>\n",
       "      <td>5111</td>\n",
       "    </tr>\n",
       "    <tr>\n",
       "      <td>334</td>\n",
       "      <td>12748</td>\n",
       "      <td>United Kingdom</td>\n",
       "      <td>4596</td>\n",
       "    </tr>\n",
       "    <tr>\n",
       "      <td>1670</td>\n",
       "      <td>14606</td>\n",
       "      <td>United Kingdom</td>\n",
       "      <td>2700</td>\n",
       "    </tr>\n",
       "  </tbody>\n",
       "</table>\n",
       "</div>"
      ],
      "text/plain": [
       "      cust_id         country  invoice_num\n",
       "4019    17841  United Kingdom         7847\n",
       "1888    14911            EIRE         5677\n",
       "1298    14096  United Kingdom         5111\n",
       "334     12748  United Kingdom         4596\n",
       "1670    14606  United Kingdom         2700"
      ]
     },
     "execution_count": 50,
     "metadata": {},
     "output_type": "execute_result"
    }
   ],
   "source": [
    "##sort data for the top5 customers with most orders\n",
    "orders.sort_values(by='invoice_num',ascending=False).head()"
   ]
  },
  {
   "cell_type": "code",
   "execution_count": 53,
   "metadata": {},
   "outputs": [
    {
     "data": {
      "image/png": "[encoded data removed]",
      "text/plain": [
       "<Figure size 1080x432 with 1 Axes>"
      ]
     },
     "metadata": {
      "needs_background": "light"
     },
     "output_type": "display_data"
    }
   ],
   "source": [
    "##expenditures by customers\n",
    "expenditures = eco_new.groupby(by=['cust_id','country'],as_index=False)['amount_spent'].sum()\n",
    "plt.subplots(figsize=(15,6))\n",
    "plt.plot(expenditures.cust_id, expenditures.amount_spent)\n",
    "plt.xlabel('Customers ID')\n",
    "plt.ylabel('Expenditures (Dollar)')\n",
    "plt.title('Expenditures by different Customers')\n",
    "plt.show()"
   ]
  },
  {
   "cell_type": "code",
   "execution_count": 56,
   "metadata": {},
   "outputs": [
    {
     "data": {
      "text/html": [
       "<div>\n",
       "<style scoped>\n",
       "    .dataframe tbody tr th:only-of-type {\n",
       "        vertical-align: middle;\n",
       "    }\n",
       "\n",
       "    .dataframe tbody tr th {\n",
       "        vertical-align: top;\n",
       "    }\n",
       "\n",
       "    .dataframe thead th {\n",
       "        text-align: right;\n",
       "    }\n",
       "</style>\n",
       "<table border=\"1\" class=\"dataframe\">\n",
       "  <thead>\n",
       "    <tr style=\"text-align: right;\">\n",
       "      <th></th>\n",
       "      <th>cust_id</th>\n",
       "      <th>country</th>\n",
       "      <th>amount_spent</th>\n",
       "    </tr>\n",
       "  </thead>\n",
       "  <tbody>\n",
       "    <tr>\n",
       "      <td>1698</td>\n",
       "      <td>14646</td>\n",
       "      <td>Netherlands</td>\n",
       "      <td>280206.02</td>\n",
       "    </tr>\n",
       "    <tr>\n",
       "      <td>4210</td>\n",
       "      <td>18102</td>\n",
       "      <td>United Kingdom</td>\n",
       "      <td>259657.30</td>\n",
       "    </tr>\n",
       "    <tr>\n",
       "      <td>3737</td>\n",
       "      <td>17450</td>\n",
       "      <td>United Kingdom</td>\n",
       "      <td>194550.79</td>\n",
       "    </tr>\n",
       "    <tr>\n",
       "      <td>3017</td>\n",
       "      <td>16446</td>\n",
       "      <td>United Kingdom</td>\n",
       "      <td>168472.50</td>\n",
       "    </tr>\n",
       "    <tr>\n",
       "      <td>1888</td>\n",
       "      <td>14911</td>\n",
       "      <td>EIRE</td>\n",
       "      <td>143825.06</td>\n",
       "    </tr>\n",
       "  </tbody>\n",
       "</table>\n",
       "</div>"
      ],
      "text/plain": [
       "      cust_id         country  amount_spent\n",
       "1698    14646     Netherlands     280206.02\n",
       "4210    18102  United Kingdom     259657.30\n",
       "3737    17450  United Kingdom     194550.79\n",
       "3017    16446  United Kingdom     168472.50\n",
       "1888    14911            EIRE     143825.06"
      ]
     },
     "execution_count": 56,
     "metadata": {},
     "output_type": "execute_result"
    }
   ],
   "source": [
    "##the Top5 of expenditures\n",
    "expenditures.sort_values(by='amount_spent',ascending=False).head()"
   ]
  },
  {
   "cell_type": "code",
   "execution_count": 57,
   "metadata": {},
   "outputs": [
    {
     "data": {
      "image/png": "[encoded data removed]",
      "text/plain": [
       "<Figure size 720x72 with 1 Axes>"
      ]
     },
     "metadata": {
      "needs_background": "light"
     },
     "output_type": "display_data"
    }
   ],
   "source": [
    "##colors available\n",
    "sns.palplot(color)"
   ]
  },
  {
   "cell_type": "code",
   "execution_count": 58,
   "metadata": {},
   "outputs": [
    {
     "data": {
      "text/html": [
       "<div>\n",
       "<style scoped>\n",
       "    .dataframe tbody tr th:only-of-type {\n",
       "        vertical-align: middle;\n",
       "    }\n",
       "\n",
       "    .dataframe tbody tr th {\n",
       "        vertical-align: top;\n",
       "    }\n",
       "\n",
       "    .dataframe thead th {\n",
       "        text-align: right;\n",
       "    }\n",
       "</style>\n",
       "<table border=\"1\" class=\"dataframe\">\n",
       "  <thead>\n",
       "    <tr style=\"text-align: right;\">\n",
       "      <th></th>\n",
       "      <th>invoice_num</th>\n",
       "      <th>invoice_date</th>\n",
       "      <th>year_month</th>\n",
       "      <th>month</th>\n",
       "      <th>day</th>\n",
       "      <th>hour</th>\n",
       "      <th>stock_code</th>\n",
       "      <th>description</th>\n",
       "      <th>quantity</th>\n",
       "      <th>unit_price</th>\n",
       "      <th>amount_spent</th>\n",
       "      <th>cust_id</th>\n",
       "      <th>country</th>\n",
       "    </tr>\n",
       "  </thead>\n",
       "  <tbody>\n",
       "    <tr>\n",
       "      <td>0</td>\n",
       "      <td>536365</td>\n",
       "      <td>2010-12-01 08:26:00</td>\n",
       "      <td>201012</td>\n",
       "      <td>12</td>\n",
       "      <td>3</td>\n",
       "      <td>8</td>\n",
       "      <td>85123A</td>\n",
       "      <td>white hanging heart t-light holder</td>\n",
       "      <td>6</td>\n",
       "      <td>2.55</td>\n",
       "      <td>15.30</td>\n",
       "      <td>17850</td>\n",
       "      <td>United Kingdom</td>\n",
       "    </tr>\n",
       "    <tr>\n",
       "      <td>1</td>\n",
       "      <td>536365</td>\n",
       "      <td>2010-12-01 08:26:00</td>\n",
       "      <td>201012</td>\n",
       "      <td>12</td>\n",
       "      <td>3</td>\n",
       "      <td>8</td>\n",
       "      <td>71053</td>\n",
       "      <td>white metal lantern</td>\n",
       "      <td>6</td>\n",
       "      <td>3.39</td>\n",
       "      <td>20.34</td>\n",
       "      <td>17850</td>\n",
       "      <td>United Kingdom</td>\n",
       "    </tr>\n",
       "    <tr>\n",
       "      <td>2</td>\n",
       "      <td>536365</td>\n",
       "      <td>2010-12-01 08:26:00</td>\n",
       "      <td>201012</td>\n",
       "      <td>12</td>\n",
       "      <td>3</td>\n",
       "      <td>8</td>\n",
       "      <td>84406B</td>\n",
       "      <td>cream cupid hearts coat hanger</td>\n",
       "      <td>8</td>\n",
       "      <td>2.75</td>\n",
       "      <td>22.00</td>\n",
       "      <td>17850</td>\n",
       "      <td>United Kingdom</td>\n",
       "    </tr>\n",
       "    <tr>\n",
       "      <td>3</td>\n",
       "      <td>536365</td>\n",
       "      <td>2010-12-01 08:26:00</td>\n",
       "      <td>201012</td>\n",
       "      <td>12</td>\n",
       "      <td>3</td>\n",
       "      <td>8</td>\n",
       "      <td>84029G</td>\n",
       "      <td>knitted union flag hot water bottle</td>\n",
       "      <td>6</td>\n",
       "      <td>3.39</td>\n",
       "      <td>20.34</td>\n",
       "      <td>17850</td>\n",
       "      <td>United Kingdom</td>\n",
       "    </tr>\n",
       "    <tr>\n",
       "      <td>4</td>\n",
       "      <td>536365</td>\n",
       "      <td>2010-12-01 08:26:00</td>\n",
       "      <td>201012</td>\n",
       "      <td>12</td>\n",
       "      <td>3</td>\n",
       "      <td>8</td>\n",
       "      <td>84029E</td>\n",
       "      <td>red woolly hottie white heart.</td>\n",
       "      <td>6</td>\n",
       "      <td>3.39</td>\n",
       "      <td>20.34</td>\n",
       "      <td>17850</td>\n",
       "      <td>United Kingdom</td>\n",
       "    </tr>\n",
       "  </tbody>\n",
       "</table>\n",
       "</div>"
      ],
      "text/plain": [
       "  invoice_num        invoice_date  year_month  month  day  hour stock_code  \\\n",
       "0      536365 2010-12-01 08:26:00      201012     12    3     8     85123A   \n",
       "1      536365 2010-12-01 08:26:00      201012     12    3     8      71053   \n",
       "2      536365 2010-12-01 08:26:00      201012     12    3     8     84406B   \n",
       "3      536365 2010-12-01 08:26:00      201012     12    3     8     84029G   \n",
       "4      536365 2010-12-01 08:26:00      201012     12    3     8     84029E   \n",
       "\n",
       "                           description  quantity  unit_price  amount_spent  \\\n",
       "0   white hanging heart t-light holder         6        2.55         15.30   \n",
       "1                  white metal lantern         6        3.39         20.34   \n",
       "2       cream cupid hearts coat hanger         8        2.75         22.00   \n",
       "3  knitted union flag hot water bottle         6        3.39         20.34   \n",
       "4       red woolly hottie white heart.         6        3.39         20.34   \n",
       "\n",
       "   cust_id         country  \n",
       "0    17850  United Kingdom  \n",
       "1    17850  United Kingdom  \n",
       "2    17850  United Kingdom  \n",
       "3    17850  United Kingdom  \n",
       "4    17850  United Kingdom  "
      ]
     },
     "execution_count": 58,
     "metadata": {},
     "output_type": "execute_result"
    }
   ],
   "source": [
    "eco_new.head()"
   ]
  },
  {
   "cell_type": "code",
   "execution_count": 65,
   "metadata": {},
   "outputs": [
    {
     "data": {
      "image/png": "[encoded data removed]",
      "text/plain": [
       "<Figure size 1080x432 with 1 Axes>"
      ]
     },
     "metadata": {
      "needs_background": "light"
     },
     "output_type": "display_data"
    }
   ],
   "source": [
    "##number of orders per month\n",
    "monthly_order_num = eco_new.groupby(by='invoice_num')['year_month'].unique().value_counts().sort_index().plot('bar',color=color[0],figsize=(15,6))\n",
    "monthly_order_num.set_xlabel('Month', fontsize=15)\n",
    "monthly_order_num.set_ylabel('Number of Orders',fontsize=15)\n",
    "monthly_order_num.set_title('Number of orders for different Months (1st Dec 2010 - 9th Dec 2011)',fontsize=15)\n",
    "monthly_order_num.set_xticklabels(('Dec 10','Jan 11','Feb 11','Mar 11','Apr 11','May 11','Jun 11','July 11','Aug 11','Sep 11','Oct 11','Nov 11','Dec 11'), rotation='horizontal', fontsize=13)\n",
    "plt.show()"
   ]
  },
  {
   "cell_type": "code",
   "execution_count": 73,
   "metadata": {},
   "outputs": [
    {
     "data": {
      "image/png": "[encoded data removed]",
      "text/plain": [
       "<Figure size 1080x432 with 1 Axes>"
      ]
     },
     "metadata": {
      "needs_background": "light"
     },
     "output_type": "display_data"
    }
   ],
   "source": [
    "eco_new.groupby(by='invoice_num')['day'].unique().value_counts().sort_index()\n",
    "daily_order_num = eco_new.groupby(by='invoice_num')['day'].unique().value_counts().sort_index().plot('bar',color=color[0],figsize=(15,6))\n",
    "daily_order_num.set_xlabel('Day', fontsize=15)\n",
    "daily_order_num.set_ylabel('Number of Orders',fontsize=15)\n",
    "daily_order_num.set_title('Number of orders on different Days',fontsize=15)\n",
    "daily_order_num.set_xticklabels(('Mon','Tue','Wed','Thur','Fri','Sun'), rotation='horizontal', fontsize=15)\n",
    "plt.show()"
   ]
  },
  {
   "cell_type": "code",
   "execution_count": 76,
   "metadata": {},
   "outputs": [
    {
     "data": {
      "image/png": "[encoded data removed]",
      "text/plain": [
       "<Figure size 1080x432 with 1 Axes>"
      ]
     },
     "metadata": {
      "needs_background": "light"
     },
     "output_type": "display_data"
    }
   ],
   "source": [
    "##number of orders per hour\n",
    "eco_new.groupby(by='invoice_num')['hour'].unique().value_counts().iloc[:-1].sort_index()\n",
    "hourly_order_num = eco_new.groupby(by='invoice_num')['hour'].unique().value_counts().iloc[:-1].sort_index().plot('bar',color=color[0],figsize=(15,6))\n",
    "hourly_order_num.set_xlabel('Hour', fontsize=15)\n",
    "hourly_order_num.set_ylabel('Number of Orders',fontsize=15)\n",
    "hourly_order_num.set_title('Number of orders in different Hours',fontsize=15)\n",
    "hourly_order_num.set_xticklabels((range(6,21)), rotation='horizontal', fontsize=15)\n",
    "plt.show()"
   ]
  },
  {
   "cell_type": "code",
   "execution_count": 77,
   "metadata": {},
   "outputs": [
    {
     "data": {
      "text/plain": [
       "count    397924.000000\n",
       "mean          3.116174\n",
       "std          22.096788\n",
       "min           0.000000\n",
       "25%           1.250000\n",
       "50%           1.950000\n",
       "75%           3.750000\n",
       "max        8142.750000\n",
       "Name: unit_price, dtype: float64"
      ]
     },
     "execution_count": 77,
     "metadata": {},
     "output_type": "execute_result"
    }
   ],
   "source": [
    "##look at Unit Price\n",
    "eco_new.unit_price.describe()"
   ]
  },
  {
   "cell_type": "code",
   "execution_count": 78,
   "metadata": {},
   "outputs": [
    {
     "data": {
      "image/png": "[encoded data removed]",
      "text/plain": [
       "<Figure size 864x432 with 1 Axes>"
      ]
     },
     "metadata": {
      "needs_background": "light"
     },
     "output_type": "display_data"
    }
   ],
   "source": [
    "##Unit Price distribution\n",
    "plt.subplots(figsize=(12,6))\n",
    "sns.boxplot(eco_new.unit_price)\n",
    "plt.show()"
   ]
  },
  {
   "cell_type": "code",
   "execution_count": 79,
   "metadata": {},
   "outputs": [
    {
     "data": {
      "text/html": [
       "<div>\n",
       "<style scoped>\n",
       "    .dataframe tbody tr th:only-of-type {\n",
       "        vertical-align: middle;\n",
       "    }\n",
       "\n",
       "    .dataframe tbody tr th {\n",
       "        vertical-align: top;\n",
       "    }\n",
       "\n",
       "    .dataframe thead th {\n",
       "        text-align: right;\n",
       "    }\n",
       "</style>\n",
       "<table border=\"1\" class=\"dataframe\">\n",
       "  <thead>\n",
       "    <tr style=\"text-align: right;\">\n",
       "      <th></th>\n",
       "      <th>invoice_num</th>\n",
       "      <th>invoice_date</th>\n",
       "      <th>year_month</th>\n",
       "      <th>month</th>\n",
       "      <th>day</th>\n",
       "      <th>hour</th>\n",
       "      <th>stock_code</th>\n",
       "      <th>description</th>\n",
       "      <th>quantity</th>\n",
       "      <th>unit_price</th>\n",
       "      <th>amount_spent</th>\n",
       "      <th>cust_id</th>\n",
       "      <th>country</th>\n",
       "    </tr>\n",
       "  </thead>\n",
       "  <tbody>\n",
       "    <tr>\n",
       "      <td>9302</td>\n",
       "      <td>537197</td>\n",
       "      <td>2010-12-05 14:02:00</td>\n",
       "      <td>201012</td>\n",
       "      <td>12</td>\n",
       "      <td>7</td>\n",
       "      <td>14</td>\n",
       "      <td>22841</td>\n",
       "      <td>round cake tin vintage green</td>\n",
       "      <td>1</td>\n",
       "      <td>0.0</td>\n",
       "      <td>0.0</td>\n",
       "      <td>12647</td>\n",
       "      <td>Germany</td>\n",
       "    </tr>\n",
       "    <tr>\n",
       "      <td>33576</td>\n",
       "      <td>539263</td>\n",
       "      <td>2010-12-16 14:36:00</td>\n",
       "      <td>201012</td>\n",
       "      <td>12</td>\n",
       "      <td>4</td>\n",
       "      <td>14</td>\n",
       "      <td>22580</td>\n",
       "      <td>advent calendar gingham sack</td>\n",
       "      <td>4</td>\n",
       "      <td>0.0</td>\n",
       "      <td>0.0</td>\n",
       "      <td>16560</td>\n",
       "      <td>United Kingdom</td>\n",
       "    </tr>\n",
       "    <tr>\n",
       "      <td>40089</td>\n",
       "      <td>539722</td>\n",
       "      <td>2010-12-21 13:45:00</td>\n",
       "      <td>201012</td>\n",
       "      <td>12</td>\n",
       "      <td>2</td>\n",
       "      <td>13</td>\n",
       "      <td>22423</td>\n",
       "      <td>regency cakestand 3 tier</td>\n",
       "      <td>10</td>\n",
       "      <td>0.0</td>\n",
       "      <td>0.0</td>\n",
       "      <td>14911</td>\n",
       "      <td>EIRE</td>\n",
       "    </tr>\n",
       "    <tr>\n",
       "      <td>47068</td>\n",
       "      <td>540372</td>\n",
       "      <td>2011-01-06 16:41:00</td>\n",
       "      <td>201101</td>\n",
       "      <td>1</td>\n",
       "      <td>4</td>\n",
       "      <td>16</td>\n",
       "      <td>22090</td>\n",
       "      <td>paper bunting retrospot</td>\n",
       "      <td>24</td>\n",
       "      <td>0.0</td>\n",
       "      <td>0.0</td>\n",
       "      <td>13081</td>\n",
       "      <td>United Kingdom</td>\n",
       "    </tr>\n",
       "    <tr>\n",
       "      <td>47070</td>\n",
       "      <td>540372</td>\n",
       "      <td>2011-01-06 16:41:00</td>\n",
       "      <td>201101</td>\n",
       "      <td>1</td>\n",
       "      <td>4</td>\n",
       "      <td>16</td>\n",
       "      <td>22553</td>\n",
       "      <td>plasters in tin skulls</td>\n",
       "      <td>24</td>\n",
       "      <td>0.0</td>\n",
       "      <td>0.0</td>\n",
       "      <td>13081</td>\n",
       "      <td>United Kingdom</td>\n",
       "    </tr>\n",
       "  </tbody>\n",
       "</table>\n",
       "</div>"
      ],
      "text/plain": [
       "      invoice_num        invoice_date  year_month  month  day  hour  \\\n",
       "9302       537197 2010-12-05 14:02:00      201012     12    7    14   \n",
       "33576      539263 2010-12-16 14:36:00      201012     12    4    14   \n",
       "40089      539722 2010-12-21 13:45:00      201012     12    2    13   \n",
       "47068      540372 2011-01-06 16:41:00      201101      1    4    16   \n",
       "47070      540372 2011-01-06 16:41:00      201101      1    4    16   \n",
       "\n",
       "      stock_code                   description  quantity  unit_price  \\\n",
       "9302       22841  round cake tin vintage green         1         0.0   \n",
       "33576      22580  advent calendar gingham sack         4         0.0   \n",
       "40089      22423      regency cakestand 3 tier        10         0.0   \n",
       "47068      22090       paper bunting retrospot        24         0.0   \n",
       "47070      22553        plasters in tin skulls        24         0.0   \n",
       "\n",
       "       amount_spent  cust_id         country  \n",
       "9302            0.0    12647         Germany  \n",
       "33576           0.0    16560  United Kingdom  \n",
       "40089           0.0    14911            EIRE  \n",
       "47068           0.0    13081  United Kingdom  \n",
       "47070           0.0    13081  United Kingdom  "
      ]
     },
     "execution_count": 79,
     "metadata": {},
     "output_type": "execute_result"
    }
   ],
   "source": [
    "##look at free commodities\n",
    "eco_free = eco_new[eco_new.unit_price==0]\n",
    "\n",
    "eco_free.head()"
   ]
  },
  {
   "cell_type": "code",
   "execution_count": 82,
   "metadata": {},
   "outputs": [
    {
     "data": {
      "image/png": "[encoded data removed]",
      "text/plain": [
       "<Figure size 864x432 with 1 Axes>"
      ]
     },
     "metadata": {
      "needs_background": "light"
     },
     "output_type": "display_data"
    }
   ],
   "source": [
    "eco_free.year_month.value_counts().sort_index()\n",
    "\n",
    "free = eco_free.year_month.value_counts().sort_index().plot('bar',figsize=(12,6),color=color[0])\n",
    "free.set_xlabel('Month',fontsize=15)\n",
    "free.set_ylabel('Frequency',fontsize=15)\n",
    "free.set_title('Frequency in Different Months (Dec 2010 - Dec 2011)',fontsize=15)\n",
    "free.set_xticklabels(('Dec 10','Jan 11','Feb 11','Mar 11','Apr 11','May 11','July 11','Aug 11','Sep 11','Oct 11','Nov 11'), rotation='horizontal', fontsize=13)\n",
    "plt.show()"
   ]
  },
  {
   "cell_type": "code",
   "execution_count": null,
   "metadata": {},
   "outputs": [],
   "source": [
    "##It is not clear why the company gives free items to certain customers, but on average,\n",
    "##the company gives free items 2 to 4 times every month, except in Nov 2011."
   ]
  },
  {
   "cell_type": "code",
   "execution_count": 83,
   "metadata": {},
   "outputs": [
    {
     "data": {
      "text/html": [
       "<div>\n",
       "<style scoped>\n",
       "    .dataframe tbody tr th:only-of-type {\n",
       "        vertical-align: middle;\n",
       "    }\n",
       "\n",
       "    .dataframe tbody tr th {\n",
       "        vertical-align: top;\n",
       "    }\n",
       "\n",
       "    .dataframe thead th {\n",
       "        text-align: right;\n",
       "    }\n",
       "</style>\n",
       "<table border=\"1\" class=\"dataframe\">\n",
       "  <thead>\n",
       "    <tr style=\"text-align: right;\">\n",
       "      <th></th>\n",
       "      <th>invoice_num</th>\n",
       "      <th>invoice_date</th>\n",
       "      <th>year_month</th>\n",
       "      <th>month</th>\n",
       "      <th>day</th>\n",
       "      <th>hour</th>\n",
       "      <th>stock_code</th>\n",
       "      <th>description</th>\n",
       "      <th>quantity</th>\n",
       "      <th>unit_price</th>\n",
       "      <th>amount_spent</th>\n",
       "      <th>cust_id</th>\n",
       "      <th>country</th>\n",
       "    </tr>\n",
       "  </thead>\n",
       "  <tbody>\n",
       "    <tr>\n",
       "      <td>0</td>\n",
       "      <td>536365</td>\n",
       "      <td>2010-12-01 08:26:00</td>\n",
       "      <td>201012</td>\n",
       "      <td>12</td>\n",
       "      <td>3</td>\n",
       "      <td>8</td>\n",
       "      <td>85123A</td>\n",
       "      <td>white hanging heart t-light holder</td>\n",
       "      <td>6</td>\n",
       "      <td>2.55</td>\n",
       "      <td>15.30</td>\n",
       "      <td>17850</td>\n",
       "      <td>United Kingdom</td>\n",
       "    </tr>\n",
       "    <tr>\n",
       "      <td>1</td>\n",
       "      <td>536365</td>\n",
       "      <td>2010-12-01 08:26:00</td>\n",
       "      <td>201012</td>\n",
       "      <td>12</td>\n",
       "      <td>3</td>\n",
       "      <td>8</td>\n",
       "      <td>71053</td>\n",
       "      <td>white metal lantern</td>\n",
       "      <td>6</td>\n",
       "      <td>3.39</td>\n",
       "      <td>20.34</td>\n",
       "      <td>17850</td>\n",
       "      <td>United Kingdom</td>\n",
       "    </tr>\n",
       "    <tr>\n",
       "      <td>2</td>\n",
       "      <td>536365</td>\n",
       "      <td>2010-12-01 08:26:00</td>\n",
       "      <td>201012</td>\n",
       "      <td>12</td>\n",
       "      <td>3</td>\n",
       "      <td>8</td>\n",
       "      <td>84406B</td>\n",
       "      <td>cream cupid hearts coat hanger</td>\n",
       "      <td>8</td>\n",
       "      <td>2.75</td>\n",
       "      <td>22.00</td>\n",
       "      <td>17850</td>\n",
       "      <td>United Kingdom</td>\n",
       "    </tr>\n",
       "    <tr>\n",
       "      <td>3</td>\n",
       "      <td>536365</td>\n",
       "      <td>2010-12-01 08:26:00</td>\n",
       "      <td>201012</td>\n",
       "      <td>12</td>\n",
       "      <td>3</td>\n",
       "      <td>8</td>\n",
       "      <td>84029G</td>\n",
       "      <td>knitted union flag hot water bottle</td>\n",
       "      <td>6</td>\n",
       "      <td>3.39</td>\n",
       "      <td>20.34</td>\n",
       "      <td>17850</td>\n",
       "      <td>United Kingdom</td>\n",
       "    </tr>\n",
       "    <tr>\n",
       "      <td>4</td>\n",
       "      <td>536365</td>\n",
       "      <td>2010-12-01 08:26:00</td>\n",
       "      <td>201012</td>\n",
       "      <td>12</td>\n",
       "      <td>3</td>\n",
       "      <td>8</td>\n",
       "      <td>84029E</td>\n",
       "      <td>red woolly hottie white heart.</td>\n",
       "      <td>6</td>\n",
       "      <td>3.39</td>\n",
       "      <td>20.34</td>\n",
       "      <td>17850</td>\n",
       "      <td>United Kingdom</td>\n",
       "    </tr>\n",
       "  </tbody>\n",
       "</table>\n",
       "</div>"
      ],
      "text/plain": [
       "  invoice_num        invoice_date  year_month  month  day  hour stock_code  \\\n",
       "0      536365 2010-12-01 08:26:00      201012     12    3     8     85123A   \n",
       "1      536365 2010-12-01 08:26:00      201012     12    3     8      71053   \n",
       "2      536365 2010-12-01 08:26:00      201012     12    3     8     84406B   \n",
       "3      536365 2010-12-01 08:26:00      201012     12    3     8     84029G   \n",
       "4      536365 2010-12-01 08:26:00      201012     12    3     8     84029E   \n",
       "\n",
       "                           description  quantity  unit_price  amount_spent  \\\n",
       "0   white hanging heart t-light holder         6        2.55         15.30   \n",
       "1                  white metal lantern         6        3.39         20.34   \n",
       "2       cream cupid hearts coat hanger         8        2.75         22.00   \n",
       "3  knitted union flag hot water bottle         6        3.39         20.34   \n",
       "4       red woolly hottie white heart.         6        3.39         20.34   \n",
       "\n",
       "   cust_id         country  \n",
       "0    17850  United Kingdom  \n",
       "1    17850  United Kingdom  \n",
       "2    17850  United Kingdom  \n",
       "3    17850  United Kingdom  \n",
       "4    17850  United Kingdom  "
      ]
     },
     "execution_count": 83,
     "metadata": {},
     "output_type": "execute_result"
    }
   ],
   "source": [
    "#Patterns based on different countries\n",
    "eco_new.head()"
   ]
  },
  {
   "cell_type": "code",
   "execution_count": 84,
   "metadata": {},
   "outputs": [],
   "source": [
    "##number of orders from each country\n",
    "orders_by_country = eco_new.groupby(by='country')['invoice_num'].count().sort_values()"
   ]
  },
  {
   "cell_type": "code",
   "execution_count": 85,
   "metadata": {},
   "outputs": [
    {
     "data": {
      "image/png": "[encoded data removed]",
      "text/plain": [
       "<Figure size 1080x576 with 1 Axes>"
      ]
     },
     "metadata": {
      "needs_background": "light"
     },
     "output_type": "display_data"
    }
   ],
   "source": [
    "##plot number of unique customers in each country (including UK)\n",
    "plt.subplots(figsize=(15,8))\n",
    "orders_by_country.plot('barh',fontsize=12,color=color[0])\n",
    "plt.xlabel('Number of Orders', fontsize=12)\n",
    "plt.ylabel('Country',fontsize=12)\n",
    "plt.title('Number of Orders from Different Countries',fontsize=12)\n",
    "plt.show()"
   ]
  },
  {
   "cell_type": "code",
   "execution_count": 86,
   "metadata": {},
   "outputs": [
    {
     "data": {
      "image/png": "[encoded data removed]",
      "text/plain": [
       "<Figure size 1080x576 with 1 Axes>"
      ]
     },
     "metadata": {
      "needs_background": "light"
     },
     "output_type": "display_data"
    }
   ],
   "source": [
    "##plot number of unique customers in each country (excluding UK)\n",
    "orders_by_country = eco_new.groupby(by='country')['invoice_num'].count().sort_values()\n",
    "del orders_by_country['United Kingdom']\n",
    "plt.subplots(figsize=(15,8))\n",
    "orders_by_country.plot('barh',fontsize=12,color=color[0])\n",
    "plt.xlabel('Number of Orders', fontsize=12)\n",
    "plt.ylabel('Country',fontsize=12)\n",
    "plt.title('Number of Orders from Different Countries',fontsize=12)\n",
    "plt.show()"
   ]
  },
  {
   "cell_type": "code",
   "execution_count": 88,
   "metadata": {},
   "outputs": [
    {
     "data": {
      "image/png": "[encoded data removed]",
      "text/plain": [
       "<Figure size 1080x576 with 1 Axes>"
      ]
     },
     "metadata": {
      "needs_background": "light"
     },
     "output_type": "display_data"
    }
   ],
   "source": [
    "#Expenditures by country (including UK)\n",
    "exp_by_country = eco_new.groupby(by='country')['amount_spent'].sum().sort_values()\n",
    "\n",
    "plt.subplots(figsize=(15,8))\n",
    "exp_by_country.plot('barh', fontsize=12, color=color[0])\n",
    "plt.xlabel('Expenditures (Dollar)', fontsize=12)\n",
    "plt.ylabel('Country', fontsize=12)\n",
    "plt.title('Expenditures by different Countries', fontsize=12)\n",
    "plt.show()"
   ]
  },
  {
   "cell_type": "code",
   "execution_count": 89,
   "metadata": {},
   "outputs": [
    {
     "data": {
      "image/png": "[encoded data removed]",
      "text/plain": [
       "<Figure size 1080x576 with 1 Axes>"
      ]
     },
     "metadata": {
      "needs_background": "light"
     },
     "output_type": "display_data"
    }
   ],
   "source": [
    "#Expenditures by country (excluding UK)\n",
    "exp_by_country = eco_new.groupby(by='country')['amount_spent'].sum().sort_values()\n",
    "del exp_by_country['United Kingdom']\n",
    "\n",
    "plt.subplots(figsize=(15,8))\n",
    "exp_by_country.plot('barh', fontsize=12, color=color[0])\n",
    "plt.xlabel('Expenditures (Dollar)', fontsize=12)\n",
    "plt.ylabel('Country', fontsize=12)\n",
    "plt.title('Expenditures by different Countries', fontsize=12)\n",
    "plt.show()"
   ]
  },
  {
   "cell_type": "code",
   "execution_count": null,
   "metadata": {},
   "outputs": [],
   "source": [
    "##people in Netherland spend large amount with a small number of orders\n"
   ]
  }
 ],
 "metadata": {
  "kernelspec": {
   "display_name": "Python 3",
   "language": "python",
   "name": "python3"
  },
  "language_info": {
   "codemirror_mode": {
    "name": "ipython",
    "version": 3
   },
   "file_extension": ".py",
   "mimetype": "text/x-python",
   "name": "python",
   "nbconvert_exporter": "python",
   "pygments_lexer": "ipython3",
   "version": "3.7.4"
  }
 },
 "nbformat": 4,
 "nbformat_minor": 2
}
